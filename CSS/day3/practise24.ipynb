{
 "cells": [
  {
   "cell_type": "code",
   "execution_count": 20,
   "metadata": {},
   "outputs": [
    {
     "data": {
      "text/plain": [
       "2"
      ]
     },
     "execution_count": 20,
     "metadata": {},
     "output_type": "execute_result"
    }
   ],
   "source": [
    "#to count the given char/sequence in string\n",
    "def count(char_sequence):\n",
    "    st=input()\n",
    "    count_char=0\n",
    "    i=0\n",
    "    while i<len(st):\n",
    "        j=i+1\n",
    "        res=''\n",
    "        while j<len(st):\n",
    "            res=st[i:j]\n",
    "            if res==char_sequence:\n",
    "                count_char+=1\n",
    "                \n",
    "            j+=1\n",
    "        i+=1\n",
    "    return count_char\n",
    "count('a')"
   ]
  },
  {
   "cell_type": "code",
   "execution_count": 51,
   "metadata": {},
   "outputs": [
    {
     "data": {
      "text/plain": [
       "4"
      ]
     },
     "execution_count": 51,
     "metadata": {},
     "output_type": "execute_result"
    }
   ],
   "source": [
    "#to find the index of char/seq\n",
    "def find(char_sequence):\n",
    "    st='jagadeesh'\n",
    "    i=0\n",
    "    while i<len(st):\n",
    "        j=i+1\n",
    "        res=''\n",
    "        while j<len(st)+1:\n",
    "            res=st[i: j]\n",
    "            if res==char_sequence:\n",
    "                return i\n",
    "            else:\n",
    "                j+=1\n",
    "        i+=1\n",
    "    if res!=char_sequence:\n",
    "        return -1\n",
    "\n",
    "find('deesh')\n",
    "\n",
    "        "
   ]
  },
  {
   "cell_type": "code",
   "execution_count": 56,
   "metadata": {},
   "outputs": [
    {
     "data": {
      "text/plain": [
       "[2, 1, 2, 3, 4]"
      ]
     },
     "execution_count": 56,
     "metadata": {},
     "output_type": "execute_result"
    }
   ],
   "source": [
    "#replace an element in list\n",
    "def replace(char_sequence):\n",
    "    position=int(input())\n",
    "    i=0\n",
    "    l=[1,2,3,4]\n",
    "    l1=[]\n",
    "    while i<len(l):\n",
    "        ele=l[i]\n",
    "        if i==position:\n",
    "            l1=l1+[char_sequence]+[ele]\n",
    "        else:\n",
    "            l1+=[ele]\n",
    "        i+=1\n",
    "    return l1\n",
    "replace(2)\n",
    "        \n",
    "        "
   ]
  }
 ],
 "metadata": {
  "kernelspec": {
   "display_name": "Python 3",
   "language": "python",
   "name": "python3"
  },
  "language_info": {
   "codemirror_mode": {
    "name": "ipython",
    "version": 3
   },
   "file_extension": ".py",
   "mimetype": "text/x-python",
   "name": "python",
   "nbconvert_exporter": "python",
   "pygments_lexer": "ipython3",
   "version": "3.11.8"
  }
 },
 "nbformat": 4,
 "nbformat_minor": 2
}
